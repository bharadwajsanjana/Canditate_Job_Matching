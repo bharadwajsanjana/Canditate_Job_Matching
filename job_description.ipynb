{
 "cells": [
  {
   "cell_type": "code",
   "execution_count": null,
   "id": "575c54e4",
   "metadata": {},
   "outputs": [],
   "source": [
    "from datasets import load_dataset\n",
    "import pandas as pd\n",
    "\n",
    "# Load the dataset\n",
    "dataset = load_dataset(\"jacob-hugging-face/job-descriptions\")\n",
    "descrip = dataset.select_columns(['job_description'])\n",
    "resdecrip = descrip['train'][slice(None, 15, None)]\n",
    "\n",
    "# Remove newline characters from job descriptions\n",
    "resdecrip[\"job_description\"] = [sl.replace('\\n', ' ') for sl in resdecrip[\"job_description\"]]\n",
    "\n",
    "# Create a DataFrame and add job IDs\n",
    "job_descriptions_df = pd.DataFrame(resdecrip)\n",
    "job_descriptions_df['job_id'] = range(1, len(job_descriptions_df) + 1)\n",
    "\n",
    "# Reorder the columns with 'job_id' first\n",
    "job_descriptions_df = job_descriptions_df[['job_id', 'job_description']]\n",
    "\n",
    "# Print both description and job_id\n",
    "print(job_descriptions_df, '\\n')\n",
    "\n",
    "# Save the DataFrame to a CSV file\n",
    "job_descriptions_df.to_csv('job_descriptions.csv', index=False)"
   ]
  },
  {
   "cell_type": "code",
   "execution_count": null,
   "id": "0a378214",
   "metadata": {},
   "outputs": [],
   "source": []
  }
 ],
 "metadata": {
  "kernelspec": {
   "display_name": "Python 3 (ipykernel)",
   "language": "python",
   "name": "python3"
  },
  "language_info": {
   "codemirror_mode": {
    "name": "ipython",
    "version": 3
   },
   "file_extension": ".py",
   "mimetype": "text/x-python",
   "name": "python",
   "nbconvert_exporter": "python",
   "pygments_lexer": "ipython3",
   "version": "3.11.5"
  }
 },
 "nbformat": 4,
 "nbformat_minor": 5
}
